{
 "cells": [
  {
   "cell_type": "markdown",
   "id": "d99f356f",
   "metadata": {},
   "source": [
    "JavaScript (JS) is a programming language. It is NOT the same as Java (In fact very different).\n",
    "\n",
    "The first thing you should know is that programming languages are designed for humans to program (give instructions to) a machine. As such, different languages are designed for different use cases.  \n",
    "\n",
    "JavaScript is mainly used in 2 scenarios:\n",
    "1. Website app development (3 languages are used: HTML+CSS+JS)\n",
    "2. Console app development (JS only)\n",
    "There are minor differences between them. We will talk about it later.\n",
    "\n",
    "This series will start with **Console** apps first."
   ]
  },
  {
   "cell_type": "markdown",
   "id": "7f81aa90",
   "metadata": {},
   "source": [
    "To run console apps developed in JavaScript, The classic way is to write JavaScript code in a file with an ˋjsˋ extension, then use an \"engine\" to run the file.\n",
    "\n",
    "There are many engines to choose from. We will use the most popular one called NodeJS.  \n",
    "I'd suggest you to [download](https://nodejs.org/en/download) and it now.\n"
   ]
  },
  {
   "cell_type": "markdown",
   "id": "26e94ee0",
   "metadata": {},
   "source": [
    "For each tutorial in this series, you can copy all code blocks in order into a .JS file (e.g. tutorial.js) and run it in a terminal using ˋnode tutorial.jsˋ. You can also press the Run button (Looks like a triangle) in each block to execute the code within the tutorial."
   ]
  }
 ],
 "metadata": {
  "language_info": {
   "name": "python"
  }
 },
 "nbformat": 4,
 "nbformat_minor": 5
}
