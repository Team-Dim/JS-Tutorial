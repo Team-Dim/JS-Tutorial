{
 "cells": [
  {
   "cell_type": "markdown",
   "id": "d99f356f",
   "metadata": {},
   "source": [
    "JavaScript (JS) is a programming language. It is NOT the same as Java (In fact very different).\n",
    "\n",
    "The first thing you should know is that programming languages are designed for humans to program (give instructions to) a machine. As such, different languages are designed for different use cases.  \n",
    "\n",
    "JavaScript is mainly used in 2 scenarios:\n",
    "1. Website app development (3 languages are used: HTML+CSS+JS)\n",
    "2. Console app development (JS only)\n",
    "There are minor differences between them. We will talk about it later.\n",
    "\n",
    "We will start with **Console** apps first.\n",
    "<hr>"
   ]
  },
  {
   "cell_type": "markdown",
   "id": "7f81aa90",
   "metadata": {},
   "source": [
    "To run console apps developed in JavaScript, The classic way is to write JavaScript code in a file with an `js` extension, then use an \"engine\" to run the file.\n",
    "\n",
    "There are many engines to choose from. In this series we will use the most popular one called NodeJS.\n",
    "<hr>"
   ]
  },
  {
   "cell_type": "markdown",
   "id": "26e94ee0",
   "metadata": {},
   "source": [
    "Throughout the series, you will see a lot of code blocks. For each tutorial, create a .js file in `src` folder. Whenever you see a code block, simply copy and paste the code into the .js file.\n",
    "\n",
    "An example is provided. Start a terminal and run `node src/01.js` now!"
   ]
  },
  {
   "cell_type": "code",
   "execution_count": null,
   "id": "65aaed0c",
   "metadata": {
    "vscode": {
     "languageId": "javascript"
    }
   },
   "outputs": [],
   "source": [
    "console.log(\"Test\")"
   ]
  }
 ],
 "metadata": {
  "language_info": {
   "name": "python"
  }
 },
 "nbformat": 4,
 "nbformat_minor": 5
}
