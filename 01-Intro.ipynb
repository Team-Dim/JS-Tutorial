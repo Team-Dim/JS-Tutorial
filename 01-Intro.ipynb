{
 "cells": [
  {
   "cell_type": "markdown",
   "id": "d99f356f",
   "metadata": {},
   "source": [
    "# Preface\n",
    "JavaScript (JS) is a programming language. It is NOT the same as Java (In fact very different).\n",
    "\n",
    "The first thing you should know in programming is that:\n",
    "1. Why do we need to code? Because we want to give instructions to computers.\n",
    "2. Why do we need computers? Because they can do certain operations (e.g. maths) MUCH quicker than us.\n",
    "3. How do we code? Programming languages are designed for humans to program (give instructions to) a machine. As such, different languages are designed for different use cases.  \n",
    "\n",
    "JavaScript is mainly used in 2 scenarios:\n",
    "1. Website app development (3 languages are used: HTML+CSS+JS)\n",
    "2. Server app development (JS only)\n",
    "\n",
    "We will start with **Server** apps first.\n",
    "\n",
    "To run server apps developed in JavaScript, The classic way is to write JavaScript code in a file with an `js` extension, then use an \"engine\" to run the file.\n",
    "\n",
    "There are many engines to choose from. In this series we will use Deno.\n",
    "<hr>"
   ]
  },
  {
   "cell_type": "markdown",
   "id": "26e94ee0",
   "metadata": {},
   "source": [
    "### Running code in this series\n",
    "Throughout the series, you will see a lot of code blocks. For each tutorial, create a .js file in `src` folder.  \n",
    "In the tutorial, Whenever you see a code block, simply open the .js file and replace everything with the code block.\n",
    "\n",
    "An example is provided. Start a terminal in VSCode and run `deno src/01.js` now!\n",
    "\n",
    "<br>\n",
    "\n",
    "If you have setup [JavaScript for Jupyter](./README.md#javascript-for-jupyter) properly, you can also run each code block.  \n",
    "You have to press `Select kernel` at the top right corner in VSCode and select Deno.\n",
    "Here is an example. Try run it!"
   ]
  },
  {
   "cell_type": "code",
   "execution_count": null,
   "id": "ec9c73d7",
   "metadata": {},
   "outputs": [],
   "source": [
    "console.log('<--- The run button is at the left hand side!')\n",
    "console.log('You will see this exact sentence right below this code block.')"
   ]
  },
  {
   "cell_type": "markdown",
   "id": "9e484dac",
   "metadata": {},
   "source": [
    "<hr>\n",
    "\n",
    "## Single-line Comments\n",
    "We can add comments to our code. These comments don't affect the behaviour of the program.  \n",
    "The most basic way to add comments is to write `//` followed by your comment."
   ]
  },
  {
   "cell_type": "code",
   "execution_count": null,
   "id": "0d5d3fbf",
   "metadata": {},
   "outputs": [],
   "source": [
    "// This is a comment!\n",
    "console.log(\"The comment isn't printed!\")"
   ]
  },
  {
   "cell_type": "markdown",
   "id": "7a548e3c",
   "metadata": {},
   "source": [
    "If we add `//` right after a line of code, anything following it in the SAME line will become a comment as well.  \n",
    "We call this \"inline comment\"."
   ]
  },
  {
   "cell_type": "code",
   "execution_count": null,
   "id": "b0308266",
   "metadata": {},
   "outputs": [],
   "source": [
    "console.log(\"First line\")  // This is an inline comment\n",
    "console.log(\"The inline comment isn't printed!\")"
   ]
  },
  {
   "cell_type": "markdown",
   "id": "f50ac451",
   "metadata": {},
   "source": [
    "There are more about comments but we will leave that later\n",
    "<hr>"
   ]
  },
  {
   "cell_type": "markdown",
   "id": "05630cdd",
   "metadata": {},
   "source": [
    "## Printing multiple things in a single line of code\n",
    "We can plug multiple sentences into a single line of `console.log()`"
   ]
  },
  {
   "cell_type": "code",
   "execution_count": null,
   "id": "7d78cf40",
   "metadata": {},
   "outputs": [],
   "source": [
    "console.log(\"Sen1\", \"Sen2\")"
   ]
  },
  {
   "cell_type": "markdown",
   "id": "9a2e5789",
   "metadata": {},
   "source": [
    "We used a `,` to separate those 2 sentences. If you look closely at the output you will see that a space ` ` is automatically inserted between them.  \n",
    "An easy workaround is to use `+` instead:"
   ]
  },
  {
   "cell_type": "code",
   "execution_count": null,
   "id": "0f1f7c51",
   "metadata": {},
   "outputs": [],
   "source": [
    "console.log(\"Sen1\" + \"Sen2\")"
   ]
  }
 ],
 "metadata": {
  "kernelspec": {
   "display_name": "Deno",
   "language": "typescript",
   "name": "deno"
  },
  "language_info": {
   "codemirror_mode": "typescript",
   "file_extension": ".ts",
   "mimetype": "text/x.typescript",
   "name": "typescript",
   "nbconvert_exporter": "script",
   "pygments_lexer": "typescript",
   "version": "5.7.3"
  }
 },
 "nbformat": 4,
 "nbformat_minor": 5
}
