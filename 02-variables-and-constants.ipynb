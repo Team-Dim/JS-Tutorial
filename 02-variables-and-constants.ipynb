{
 "cells": [
  {
   "cell_type": "markdown",
   "id": "c1e99c8c",
   "metadata": {},
   "source": [
    "# 1. Introducing dynamic behaviour to our programs\n",
    "In the last episode we managed to let JavaScript repeat our messages. But that's not really helpful.  \n",
    "A useful computer program should be able to change its output messages based on some input, and most of the time these inputs need to be changed when the program is running.\n",
    "\n",
    "Imagine you are a wizard. You want to build a program that asks the user's to input his age twice. For each prompt we will print what he has typed.  \n",
    "You know a magic spell that can retrieve the user's input. Your code looks like this:"
   ]
  },
  {
   "cell_type": "code",
   "execution_count": null,
   "id": "90e560cf",
   "metadata": {},
   "outputs": [],
   "source": [
    "console.log(\"1. What is your age?\")\n",
    "// Cast the spell!\n",
    "console.log(\"1. Your age is:\")\n",
    "console.log(\"2. What is your age?\")\n",
    "// Cast the spell!\n",
    "console.log(\"2. Your age is:\")"
   ]
  },
  {
   "cell_type": "markdown",
   "id": "31d71fc5",
   "metadata": {},
   "source": [
    "We are missing something: We need to store the user's input. In JS we can create storages out of nowhere.  \n",
    "To create a storage, we write `let` followed by the name of the storage.  \n",
    "Let's create a storage called `age` and save the result of each cast in it.  \n",
    "This also means we can print it now:"
   ]
  },
  {
   "cell_type": "code",
   "execution_count": 4,
   "id": "d319701e",
   "metadata": {},
   "outputs": [
    {
     "name": "stdout",
     "output_type": "stream",
     "text": [
      "1. What is your age?\n",
      "1. Your age is: undefined\n",
      "2. What is your age?\n",
      "2. Your age is: undefined\n"
     ]
    }
   ],
   "source": [
    "let age  // Create a storage called 'age'\n",
    "console.log(\"1. What is your age?\")\n",
    "// Cast spell and save result to age\n",
    "console.log(\"1. Your age is:\", age)\n",
    "console.log(\"2. What is your age?\")\n",
    "// Cast spell and save result to age\n",
    "console.log(\"2. Your age is:\", age)"
   ]
  },
  {
   "cell_type": "markdown",
   "id": "6126268e",
   "metadata": {},
   "source": [
    "The content of a storage is called \"value\".  \n",
    "Storages are called \"variables\" in the programming world because their values may VARY. By default they can be changed at anytime when the program is running.  \n",
    "\n",
    "<hr>\n",
    "\n",
    "In most programming languages, there are 3 operations that can be done on a variable:\n",
    "1. Define (Create)\n",
    "2. Assign (Change)\n",
    "3. Read\n",
    "\n",
    "If you run the above code, it demonstrates how we can define and read variables. However `age` is printed as `undefined`.  \n",
    "This is because ~~computers can't cast spells~~ when we define a variable, it is automatically assigned an 'undefined' value. You can also interpret this as\n",
    "* A variable being read before it is assigned a meaningful value.\n",
    "* A variable is defined but its value undefined.\n",
    "\n",
    "So let's replace the spell by assigning some random hard-coded numbers:"
   ]
  },
  {
   "cell_type": "code",
   "execution_count": 7,
   "id": "9ca79378",
   "metadata": {},
   "outputs": [
    {
     "name": "stdout",
     "output_type": "stream",
     "text": [
      "1. What is your age?\n",
      "1. Your age is: 3\n",
      "2. What is your age?\n",
      "2. Your age is: 5\n"
     ]
    }
   ],
   "source": [
    "let age  // Create a storage called 'age'\n",
    "console.log(\"1. What is your age?\")\n",
    "age = 3  // Assign number 3 to age\n",
    "console.log(\"1. Your age is:\", age)\n",
    "console.log(\"2. What is your age?\")\n",
    "age = 5  // Assign number 5 to age\n",
    "console.log(\"2. Your age is:\", age)"
   ]
  },
  {
   "cell_type": "markdown",
   "id": "4fed8ace",
   "metadata": {},
   "source": [
    "And voila! It works! Programming really does feel like magic. Programmers also like cool hacks. So here is a simple trick:  \n",
    "We can define a variable and immediately assign a meaningful value within a single line."
   ]
  },
  {
   "cell_type": "code",
   "execution_count": 9,
   "id": "67fb5090",
   "metadata": {},
   "outputs": [
    {
     "data": {
      "text/plain": [
       "\u001b[33m1\u001b[39m"
      ]
     },
     "execution_count": 9,
     "metadata": {},
     "output_type": "execute_result"
    }
   ],
   "source": [
    "let var1\n",
    "var1 = 1\n",
    "\n",
    "// The above is the same as\n",
    "let var2 = 2"
   ]
  },
  {
   "cell_type": "markdown",
   "id": "19e49b83",
   "metadata": {},
   "source": [
    "You might wonder why I've used 2 variable names here. This is because we can't redefine variables using the same name."
   ]
  },
  {
   "cell_type": "code",
   "execution_count": 8,
   "id": "3879e0a2",
   "metadata": {},
   "outputs": [
    {
     "ename": "SyntaxError",
     "evalue": "Identifier 'var1' has already been declared",
     "output_type": "error",
     "traceback": [
      "Stack trace:",
      "SyntaxError: Identifier 'var1' has already been declared"
     ]
    }
   ],
   "source": [
    "let var1 = 1\n",
    "let var1 = 2 // Error"
   ]
  }
 ],
 "metadata": {
  "kernelspec": {
   "display_name": "Deno",
   "language": "typescript",
   "name": "deno"
  },
  "language_info": {
   "codemirror_mode": "typescript",
   "file_extension": ".ts",
   "mimetype": "text/x.typescript",
   "name": "typescript",
   "nbconvert_exporter": "script",
   "pygments_lexer": "typescript",
   "version": "5.7.3"
  }
 },
 "nbformat": 4,
 "nbformat_minor": 5
}
